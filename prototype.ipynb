{
 "cells": [
  {
   "cell_type": "code",
   "execution_count": 4,
   "metadata": {},
   "outputs": [
    {
     "name": "stdout",
     "output_type": "stream",
     "text": [
      "Device: cuda:0\n"
     ]
    }
   ],
   "source": [
    "import torch\n",
    "device = \"cuda:0\" if torch.cuda.is_available() else \"cpu\"\n",
    "# device = 'cpu'\n",
    "print(\"Device:\", device)"
   ]
  },
  {
   "cell_type": "code",
   "execution_count": 5,
   "metadata": {},
   "outputs": [
    {
     "name": "stdout",
     "output_type": "stream",
     "text": [
      "Translation: [{'translation_text': \"Bonjour, je suis Quentin, comment allez-vous aujourd'hui? J'ai un problème médical que je voudrais discuter.\"}]\n"
     ]
    }
   ],
   "source": [
    "# Use a pipeline as a high-level helper\n",
    "from transformers import pipeline\n",
    "\n",
    "# pipe_translate = pipeline(\"translation\", model=\"Helsinki-NLP/opus-mt-en-fr\", device=device) # Bad perfs\n",
    "pipe_translate = pipeline(\"translation\", model=\"Helsinki-NLP/opus-mt-tc-big-en-fr\", batch_size=16, device=device) # Decent perfs, quite fast\n",
    "# pipe_translate = pipeline(\"translation\", model=\"jbochi/madlad400-3b-mt\", batch_size=16, device=device) # Verfy slow, haven't found the right conf to make it work properly\n",
    "test_text = \"Hello, I'm Quentin, how are you today? I have a medical problem I'd like to discuss.\"\n",
    "translation = pipe_translate(test_text)\n",
    "print(\"Translation:\", translation)"
   ]
  },
  {
   "cell_type": "code",
   "execution_count": 11,
   "metadata": {},
   "outputs": [
    {
     "name": "stdout",
     "output_type": "stream",
     "text": [
      "[<ZipInfo filename='mimetype' filemode='?rw-------' file_size=20>, <ZipInfo filename='META-INF/' compress_type=deflate filemode='?rwxr-xr-x' compress_size=2>, <ZipInfo filename='META-INF/container.xml' compress_type=deflate filemode='?rw-------' file_size=244 compress_size=154>, <ZipInfo filename='images/' compress_type=deflate filemode='?rwxr-xr-x' compress_size=2>, <ZipInfo filename='images/00005.jpeg' compress_type=deflate filemode='-rw-r--r--' file_size=28157 compress_size=25289>, <ZipInfo filename='images/00007.gif' compress_type=deflate filemode='-rw-r--r--' file_size=1768 compress_size=1522>, <ZipInfo filename='images/00009.jpeg' compress_type=deflate filemode='-rw-r--r--' file_size=11716 compress_size=10902>, <ZipInfo filename='images/00004.jpeg' compress_type=deflate filemode='-rw-r--r--' file_size=56712 compress_size=56573>, <ZipInfo filename='images/00003.jpeg' compress_type=deflate filemode='-rw-r--r--' file_size=6448 compress_size=5536>, <ZipInfo filename='images/00002.jpeg' compress_type=deflate filemode='-rw-r--r--' file_size=1248 compress_size=1031>, <ZipInfo filename='images/00001.jpeg' compress_type=deflate filemode='-rw-r--r--' file_size=19917 compress_size=16734>, <ZipInfo filename='images/00008.gif' compress_type=deflate filemode='-rw-r--r--' file_size=1448 compress_size=1181>, <ZipInfo filename='images/00006.jpeg' compress_type=deflate filemode='-rw-r--r--' file_size=36028 compress_size=35769>, <ZipInfo filename='page_styles.css' compress_type=deflate filemode='-rw-r--r--' file_size=58 compress_size=42>, <ZipInfo filename='titlepage.xhtml' compress_type=deflate filemode='-rw-r--r--' file_size=799 compress_size=410>, <ZipInfo filename='stylesheet.css' compress_type=deflate filemode='-rw-r--r--' file_size=8051 compress_size=867>, <ZipInfo filename='content.opf' compress_type=deflate filemode='-rw-r--r--' file_size=10136 compress_size=1551>, <ZipInfo filename='cover.jpeg' compress_type=deflate filemode='-rw-r--r--' file_size=70890 compress_size=70766>, <ZipInfo filename='text/' compress_type=deflate filemode='?rwxr-xr-x' compress_size=2>, <ZipInfo filename='text/part0015.html' compress_type=deflate filemode='-rw-r--r--' file_size=33403 compress_size=12392>, <ZipInfo filename='text/part0042.html' compress_type=deflate filemode='-rw-r--r--' file_size=26214 compress_size=9985>, <ZipInfo filename='text/part0054.html' compress_type=deflate filemode='-rw-r--r--' file_size=19168 compress_size=7344>, <ZipInfo filename='text/part0003.html' compress_type=deflate filemode='-rw-r--r--' file_size=810 compress_size=450>, <ZipInfo filename='text/part0039.html' compress_type=deflate filemode='-rw-r--r--' file_size=17404 compress_size=6609>, <ZipInfo filename='text/part0019.html' compress_type=deflate filemode='-rw-r--r--' file_size=34011 compress_size=12446>, <ZipInfo filename='text/part0058.html' compress_type=deflate filemode='-rw-r--r--' file_size=748 compress_size=405>, <ZipInfo filename='text/part0023.html' compress_type=deflate filemode='-rw-r--r--' file_size=12331 compress_size=4803>, <ZipInfo filename='text/part0035.html' compress_type=deflate filemode='-rw-r--r--' file_size=29365 compress_size=10914>, <ZipInfo filename='text/part0062.html' compress_type=deflate filemode='-rw-r--r--' file_size=2056 compress_size=776>, <ZipInfo filename='text/part0063.html' compress_type=deflate filemode='-rw-r--r--' file_size=7073 compress_size=1512>, <ZipInfo filename='text/part0034.html' compress_type=deflate filemode='-rw-r--r--' file_size=23340 compress_size=9194>, <ZipInfo filename='text/part0022.html' compress_type=deflate filemode='-rw-r--r--' file_size=31691 compress_size=11693>, <ZipInfo filename='text/part0059.html' compress_type=deflate filemode='-rw-r--r--' file_size=3466 compress_size=798>, <ZipInfo filename='text/part0018.html' compress_type=deflate filemode='-rw-r--r--' file_size=37856 compress_size=13789>, <ZipInfo filename='text/part0038.html' compress_type=deflate filemode='-rw-r--r--' file_size=32914 compress_size=12088>, <ZipInfo filename='text/part0002.html' compress_type=deflate filemode='-rw-r--r--' file_size=1058 compress_size=573>, <ZipInfo filename='text/part0055.html' compress_type=deflate filemode='-rw-r--r--' file_size=27404 compress_size=10155>, <ZipInfo filename='text/part0043.html' compress_type=deflate filemode='-rw-r--r--' file_size=11569 compress_size=4655>, <ZipInfo filename='text/part0014.html' compress_type=deflate filemode='-rw-r--r--' file_size=22885 compress_size=8877>, <ZipInfo filename='text/part0048.html' compress_type=deflate filemode='-rw-r--r--' file_size=8969 compress_size=3742>, <ZipInfo filename='text/part0009.html' compress_type=deflate filemode='-rw-r--r--' file_size=29150 compress_size=10963>, <ZipInfo filename='text/part0025.html' compress_type=deflate filemode='-rw-r--r--' file_size=978 compress_size=495>, <ZipInfo filename='text/part0033.html' compress_type=deflate filemode='-rw-r--r--' file_size=16915 compress_size=6648>, <ZipInfo filename='text/part0064.html' compress_type=deflate filemode='-rw-r--r--' file_size=2076 compress_size=1048>, <ZipInfo filename='text/part0013.html' compress_type=deflate filemode='-rw-r--r--' file_size=33200 compress_size=12395>, <ZipInfo filename='text/part0044.html' compress_type=deflate filemode='-rw-r--r--' file_size=18665 compress_size=7344>, <ZipInfo filename='text/part0052.html' compress_type=deflate filemode='-rw-r--r--' file_size=18790 compress_size=7412>, <ZipInfo filename='text/part0005.html' compress_type=deflate filemode='-rw-r--r--' file_size=749 compress_size=386>, <ZipInfo filename='text/part0029.html' compress_type=deflate filemode='-rw-r--r--' file_size=21697 compress_size=8021>, <ZipInfo filename='text/part0028.html' compress_type=deflate filemode='-rw-r--r--' file_size=13479 compress_size=5507>, <ZipInfo filename='text/part0053.html' compress_type=deflate filemode='-rw-r--r--' file_size=20141 compress_size=7861>, <ZipInfo filename='text/part0045.html' compress_type=deflate filemode='-rw-r--r--' file_size=9265 compress_size=3692>, <ZipInfo filename='text/part0012.html' compress_type=deflate filemode='-rw-r--r--' file_size=28413 compress_size=10797>, <ZipInfo filename='text/part0032.html' compress_type=deflate filemode='-rw-r--r--' file_size=25273 compress_size=9484>, <ZipInfo filename='text/part0024.html' compress_type=deflate filemode='-rw-r--r--' file_size=19931 compress_size=7687>, <ZipInfo filename='text/part0008.html' compress_type=deflate filemode='-rw-r--r--' file_size=29147 compress_size=11391>, <ZipInfo filename='text/part0049.html' compress_type=deflate filemode='-rw-r--r--' file_size=5585 compress_size=2386>, <ZipInfo filename='text/part0031.html' compress_type=deflate filemode='-rw-r--r--' file_size=32846 compress_size=11901>, <ZipInfo filename='text/part0027.html' compress_type=deflate filemode='-rw-r--r--' file_size=31426 compress_size=11671>, <ZipInfo filename='text/part0007.html' compress_type=deflate filemode='-rw-r--r--' file_size=20875 compress_size=7958>, <ZipInfo filename='text/part0050.html' compress_type=deflate filemode='-rw-r--r--' file_size=17147 compress_size=6668>, <ZipInfo filename='text/part0046.html' compress_type=deflate filemode='-rw-r--r--' file_size=19917 compress_size=7752>, <ZipInfo filename='text/part0011.html' compress_type=deflate filemode='-rw-r--r--' file_size=25856 compress_size=9944>, <ZipInfo filename='text/part0010.html' compress_type=deflate filemode='-rw-r--r--' file_size=19030 compress_size=7433>, <ZipInfo filename='text/part0047.html' compress_type=deflate filemode='-rw-r--r--' file_size=16807 compress_size=6234>, <ZipInfo filename='text/part0051.html' compress_type=deflate filemode='-rw-r--r--' file_size=13177 compress_size=5340>, <ZipInfo filename='text/part0006.html' compress_type=deflate filemode='-rw-r--r--' file_size=898 compress_size=459>, <ZipInfo filename='text/part0026.html' compress_type=deflate filemode='-rw-r--r--' file_size=42236 compress_size=15202>, <ZipInfo filename='text/part0030.html' compress_type=deflate filemode='-rw-r--r--' file_size=15936 compress_size=6511>, <ZipInfo filename='text/part0004_split_001.html' compress_type=deflate filemode='-rw-r--r--' file_size=1888 compress_size=578>, <ZipInfo filename='text/part0001.html' compress_type=deflate filemode='-rw-r--r--' file_size=2430 compress_size=861>, <ZipInfo filename='text/part0056.html' compress_type=deflate filemode='-rw-r--r--' file_size=23186 compress_size=8857>, <ZipInfo filename='text/part0040.html' compress_type=deflate filemode='-rw-r--r--' file_size=21755 compress_size=8346>, <ZipInfo filename='text/part0017.html' compress_type=deflate filemode='-rw-r--r--' file_size=27753 compress_size=10306>, <ZipInfo filename='text/part0060.html' compress_type=deflate filemode='-rw-r--r--' file_size=3012 compress_size=1133>, <ZipInfo filename='text/part0037.html' compress_type=deflate filemode='-rw-r--r--' file_size=36442 compress_size=13054>, <ZipInfo filename='text/part0021.html' compress_type=deflate filemode='-rw-r--r--' file_size=26528 compress_size=10153>, <ZipInfo filename='text/part0020.html' compress_type=deflate filemode='-rw-r--r--' file_size=26469 compress_size=9819>, <ZipInfo filename='text/part0036.html' compress_type=deflate filemode='-rw-r--r--' file_size=11901 compress_size=4701>, <ZipInfo filename='text/part0061.html' compress_type=deflate filemode='-rw-r--r--' file_size=2666 compress_size=1136>, <ZipInfo filename='text/part0016.html' compress_type=deflate filemode='-rw-r--r--' file_size=32544 compress_size=12024>, <ZipInfo filename='text/part0041.html' compress_type=deflate filemode='-rw-r--r--' file_size=19890 compress_size=7538>, <ZipInfo filename='text/part0057.html' compress_type=deflate filemode='-rw-r--r--' file_size=3423 compress_size=1855>, <ZipInfo filename='text/part0000.html' compress_type=deflate filemode='-rw-r--r--' file_size=720 compress_size=404>, <ZipInfo filename='text/part0004_split_000.html' compress_type=deflate filemode='-rw-r--r--' file_size=736 compress_size=393>, <ZipInfo filename='toc.ncx' compress_type=deflate filemode='-rw-r--r--' file_size=12289 compress_size=1367>, <ZipInfo filename='META-INF/calibre_bookmarks.txt' compress_type=deflate filemode='?rw-------' file_size=204 compress_size=172>]\n"
     ]
    },
    {
     "name": "stderr",
     "output_type": "stream",
     "text": [
      "  0%|          | 0/87 [00:00<?, ?it/s]/home/qbateux/pytorch/lib/python3.10/site-packages/transformers/pipelines/base.py:1157: UserWarning: You seem to be using the pipelines sequentially on GPU. In order to maximize efficiency please use a dataset\n",
      "  warnings.warn(\n"
     ]
    }
   ],
   "source": [
    "import zipfile\n",
    "from bs4 import BeautifulSoup\n",
    "from tqdm import tqdm\n",
    "\n",
    "debug = False\n",
    "debug_chapter = 15\n",
    "debug_i = -1\n",
    "\n",
    "# file_name = \"epubs/King of Scars by Leigh Bardugo.epub\"\n",
    "file_name = \"epubs/Rule of Wolves.epub\"\n",
    "input_archive = zipfile.ZipFile(file_name, \"r\")\n",
    "if debug:\n",
    "    output_archive = zipfile.ZipFile(file_name+\"_traduction_debug.epub\", \"w\")\n",
    "else:\n",
    "    output_archive = zipfile.ZipFile(file_name+\"_traduction.epub\", \"w\")\n",
    "file_list = input_archive.infolist()\n",
    "print(file_list)\n",
    "\n",
    "for x in tqdm(range(0, len(file_list))):\n",
    "    item = input_archive.open(file_list[x])\n",
    "    content = item.read()\n",
    "    \n",
    "    if file_list[x].filename.endswith(\".html\"):# and \"0009\" in file_list[x].filename:\n",
    "        # modification = '''<?xml version='1.0' encoding='utf-8'?>\n",
    "        #                 <html xmlns=\"http://www.w3.org/1999/xhtml\">\n",
    "        #                 <head>\n",
    "        #                     <title>1 Dima</title>\n",
    "                            \n",
    "        #                 <link href=\"../Styles/stylesheet.css\" rel=\"stylesheet\" type=\"text/css\"/>\n",
    "        #                 <link href=\"../Styles/page_styles.css\" rel=\"stylesheet\" type=\"text/css\"/>\n",
    "        #                 </head>\n",
    "        #                 <body id=\"ukwsaIexvXoTa2hwYWoxGfG\" class=\"calibre\">\n",
    "        #                 <p class=\"linespace\"> </p>\n",
    "        #                 <div class=\"imgcenter\">\n",
    "        #                 <p class=\"chheadimg3\"><img src=\"../Images/00007.jpeg\" width=\"70%\" height=\"auto\" alt=\"images\" class=\"calibre1\"/></p>\n",
    "        #                 </div>\n",
    "        #                 <p class=\"linespace1\"></p>\n",
    "        #                 <p class=\"tx\"><span class=\"big\">DIMA HEARD THE BARN DOORS</span> slam before anyone else did. Inside the little farmhouse, the kitchen bubbled like a pot on the stove, its windows shut tight against the storm, the air in the room warm and moist. The walls rattled with the rowdy din of Dima’s brothers talking over one another, as his mother hummed and thumped her foot to a song Dima didn’t know. She held the torn sleeve of one of his father’s shirts taut in her lap, her needle pecking at the fabric in the uneven rhythm of an eager sparrow, a skein of wool thread trailing between her fingers like a choice worm.</p>\n",
    "        #                 </body>\n",
    "        #                 </html>\n",
    "        #                 '''\n",
    "        debug_i +=1\n",
    "        if debug and debug_i != debug_chapter:\n",
    "            continue\n",
    "    \n",
    "        html = input_archive.read(file_list[x].filename)\n",
    "        soup = BeautifulSoup(html, 'html.parser')\n",
    "        for i in soup.find_all('p'):#, [\"tx\", \"txt\"]):\n",
    "            sentences = i.text.split(\". \")\n",
    "            \n",
    "            # Making sure there are no words only in uppercase (otherwise then don't get translated...)\n",
    "            for idx, sentence in enumerate(sentences):\n",
    "                if \".\" not in sentence:\n",
    "                    sentence = sentence + \". \" # Adding the ending dot back. Otherwise some sentences don't make sense and get translated wrong\n",
    "                    sentences[idx] = sentence\n",
    "                found_upper = False\n",
    "                for word in sentence.split(\" \"):\n",
    "                    if word.isupper():\n",
    "                        found_upper = True\n",
    "                        sentence = sentence.replace(word, word.lower())\n",
    "                        # print(\"Replaced Upper case words:\", word, \"by\", word.lower())\n",
    "                        # print(\"Updated sentence (ONGOING):\", sentence)\n",
    "                if found_upper:\n",
    "                    sentence = sentence[0].upper() + sentence[1:]\n",
    "                    # print(\"Corrected sentence:\", sentence)\n",
    "                    sentences[idx] = sentence\n",
    "                    # print(\"by:\", sentences[idx])\n",
    "\n",
    "            # print(\"\\n\\nFound to translate:\", sentences)\n",
    "            translated = pipe_translate(sentences)\n",
    "            # print(\"Translated text:\", translated)\n",
    "            \n",
    "            translated_aggregated = \"<p class=\\\"txt\\\">\" + translated[0][\"translation_text\"]\n",
    "            \n",
    "            for sentence in translated[1:]:\n",
    "                translated_aggregated += \" \" + sentence[\"translation_text\"]\n",
    "            translated_aggregated += \"</p>\\n\"\n",
    "            i.replace_with(translated_aggregated)\n",
    "\n",
    "        output_archive.writestr(file_list[x].filename, soup.prettify(\"utf-8\", formatter=None))\n",
    "        # pprint(soup.prettify(\"utf-8\"))\n",
    "    else:\n",
    "        #For the other file types, simply copy the original content:\n",
    "        output_archive.writestr(file_list[x].filename, content)\n",
    "\n",
    "input_archive.close()\n",
    "output_archive.close()"
   ]
  }
 ],
 "metadata": {
  "kernelspec": {
   "display_name": "pytorch",
   "language": "python",
   "name": "python3"
  },
  "language_info": {
   "codemirror_mode": {
    "name": "ipython",
    "version": 3
   },
   "file_extension": ".py",
   "mimetype": "text/x-python",
   "name": "python",
   "nbconvert_exporter": "python",
   "pygments_lexer": "ipython3",
   "version": "3.10.12"
  }
 },
 "nbformat": 4,
 "nbformat_minor": 2
}
